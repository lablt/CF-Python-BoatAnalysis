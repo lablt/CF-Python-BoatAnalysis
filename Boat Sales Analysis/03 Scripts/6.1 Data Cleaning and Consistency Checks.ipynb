{
 "cells": [
  {
   "cell_type": "markdown",
   "id": "c1a504dd",
   "metadata": {},
   "source": [
    "# Table of Contents\n",
    "### 01. Importing Libaries\n",
    "### 02. Importing Data\n",
    "### 03. Data Cleaning & Consistency Checks\n",
    "### 04. Exporting cleaned dataset"
   ]
  },
  {
   "cell_type": "markdown",
   "id": "1b5d8c0f",
   "metadata": {},
   "source": [
    "# 01. Importing Libraries"
   ]
  },
  {
   "cell_type": "code",
   "execution_count": 1,
   "id": "bd8493db",
   "metadata": {},
   "outputs": [],
   "source": [
    "import pandas as pd\n",
    "import numpy as np\n",
    "import os"
   ]
  },
  {
   "cell_type": "markdown",
   "id": "c9988f12",
   "metadata": {},
   "source": [
    "# 02. Importing Data"
   ]
  },
  {
   "cell_type": "code",
   "execution_count": 2,
   "id": "f5756f08",
   "metadata": {},
   "outputs": [],
   "source": [
    "path = r'/Users/lianabulte/Career Foundry/2023 Boat Sales Analysis'"
   ]
  },
  {
   "cell_type": "code",
   "execution_count": 3,
   "id": "969722eb",
   "metadata": {},
   "outputs": [],
   "source": [
    "df = pd.read_csv(os.path.join(path, '02 Data', 'Original Data', 'boat_data.csv'))"
   ]
  },
  {
   "cell_type": "markdown",
   "id": "c82b9a2b",
   "metadata": {},
   "source": [
    "# 03. Data Cleaning & Consistency Checks"
   ]
  },
  {
   "cell_type": "code",
   "execution_count": 4,
   "id": "b658a960",
   "metadata": {},
   "outputs": [
    {
     "data": {
      "text/html": [
       "<div>\n",
       "<style scoped>\n",
       "    .dataframe tbody tr th:only-of-type {\n",
       "        vertical-align: middle;\n",
       "    }\n",
       "\n",
       "    .dataframe tbody tr th {\n",
       "        vertical-align: top;\n",
       "    }\n",
       "\n",
       "    .dataframe thead th {\n",
       "        text-align: right;\n",
       "    }\n",
       "</style>\n",
       "<table border=\"1\" class=\"dataframe\">\n",
       "  <thead>\n",
       "    <tr style=\"text-align: right;\">\n",
       "      <th></th>\n",
       "      <th>Price</th>\n",
       "      <th>Boat Type</th>\n",
       "      <th>Manufacturer</th>\n",
       "      <th>Type</th>\n",
       "      <th>Year Built</th>\n",
       "      <th>Length</th>\n",
       "      <th>Width</th>\n",
       "      <th>Material</th>\n",
       "      <th>Location</th>\n",
       "      <th>Number of views last 7 days</th>\n",
       "    </tr>\n",
       "  </thead>\n",
       "  <tbody>\n",
       "    <tr>\n",
       "      <th>0</th>\n",
       "      <td>CHF 3337</td>\n",
       "      <td>Motor Yacht</td>\n",
       "      <td>Rigiflex power boats</td>\n",
       "      <td>new boat from stock</td>\n",
       "      <td>2017</td>\n",
       "      <td>4.00</td>\n",
       "      <td>1.90</td>\n",
       "      <td>NaN</td>\n",
       "      <td>Switzerland Â» Lake Geneva Â» VÃ©senaz</td>\n",
       "      <td>226</td>\n",
       "    </tr>\n",
       "    <tr>\n",
       "      <th>1</th>\n",
       "      <td>EUR 3490</td>\n",
       "      <td>Center console boat</td>\n",
       "      <td>Terhi power boats</td>\n",
       "      <td>new boat from stock</td>\n",
       "      <td>2020</td>\n",
       "      <td>4.00</td>\n",
       "      <td>1.50</td>\n",
       "      <td>Thermoplastic</td>\n",
       "      <td>Germany Â» BÃ¶nningstedt</td>\n",
       "      <td>75</td>\n",
       "    </tr>\n",
       "    <tr>\n",
       "      <th>2</th>\n",
       "      <td>CHF 3770</td>\n",
       "      <td>Sport Boat</td>\n",
       "      <td>Marine power boats</td>\n",
       "      <td>new boat from stock</td>\n",
       "      <td>0</td>\n",
       "      <td>3.69</td>\n",
       "      <td>1.42</td>\n",
       "      <td>Aluminium</td>\n",
       "      <td>Switzerland Â» Lake of Zurich Â» StÃ¤fa ZH</td>\n",
       "      <td>124</td>\n",
       "    </tr>\n",
       "    <tr>\n",
       "      <th>3</th>\n",
       "      <td>DKK 25900</td>\n",
       "      <td>Sport Boat</td>\n",
       "      <td>Pioner power boats</td>\n",
       "      <td>new boat from stock</td>\n",
       "      <td>2020</td>\n",
       "      <td>3.00</td>\n",
       "      <td>1.00</td>\n",
       "      <td>NaN</td>\n",
       "      <td>Denmark Â» Svendborg</td>\n",
       "      <td>64</td>\n",
       "    </tr>\n",
       "    <tr>\n",
       "      <th>4</th>\n",
       "      <td>EUR 3399</td>\n",
       "      <td>Fishing Boat</td>\n",
       "      <td>Linder power boats</td>\n",
       "      <td>new boat from stock</td>\n",
       "      <td>2019</td>\n",
       "      <td>3.55</td>\n",
       "      <td>1.46</td>\n",
       "      <td>Aluminium</td>\n",
       "      <td>Germany Â» Bayern Â» MÃ¼nchen</td>\n",
       "      <td>58</td>\n",
       "    </tr>\n",
       "  </tbody>\n",
       "</table>\n",
       "</div>"
      ],
      "text/plain": [
       "       Price            Boat Type          Manufacturer                 Type  \\\n",
       "0   CHF 3337          Motor Yacht  Rigiflex power boats  new boat from stock   \n",
       "1   EUR 3490  Center console boat     Terhi power boats  new boat from stock   \n",
       "2   CHF 3770           Sport Boat    Marine power boats  new boat from stock   \n",
       "3  DKK 25900           Sport Boat    Pioner power boats  new boat from stock   \n",
       "4   EUR 3399         Fishing Boat    Linder power boats  new boat from stock   \n",
       "\n",
       "   Year Built  Length  Width       Material  \\\n",
       "0        2017    4.00   1.90            NaN   \n",
       "1        2020    4.00   1.50  Thermoplastic   \n",
       "2           0    3.69   1.42      Aluminium   \n",
       "3        2020    3.00   1.00            NaN   \n",
       "4        2019    3.55   1.46      Aluminium   \n",
       "\n",
       "                                     Location  Number of views last 7 days  \n",
       "0      Switzerland Â» Lake Geneva Â» VÃ©senaz                          226  \n",
       "1                    Germany Â» BÃ¶nningstedt                           75  \n",
       "2  Switzerland Â» Lake of Zurich Â» StÃ¤fa ZH                          124  \n",
       "3                        Denmark Â» Svendborg                           64  \n",
       "4               Germany Â» Bayern Â» MÃ¼nchen                           58  "
      ]
     },
     "execution_count": 4,
     "metadata": {},
     "output_type": "execute_result"
    }
   ],
   "source": [
    "# review intial data\n",
    "df.head()"
   ]
  },
  {
   "cell_type": "code",
   "execution_count": 5,
   "id": "04d873fc",
   "metadata": {},
   "outputs": [
    {
     "data": {
      "text/plain": [
       "(9888, 10)"
      ]
     },
     "execution_count": 5,
     "metadata": {},
     "output_type": "execute_result"
    }
   ],
   "source": [
    "# review shape\n",
    "df.shape"
   ]
  },
  {
   "cell_type": "code",
   "execution_count": 7,
   "id": "1da12855",
   "metadata": {},
   "outputs": [
    {
     "name": "stdout",
     "output_type": "stream",
     "text": [
      "<class 'pandas.core.frame.DataFrame'>\n",
      "RangeIndex: 9888 entries, 0 to 9887\n",
      "Data columns (total 10 columns):\n",
      " #   Column                       Non-Null Count  Dtype  \n",
      "---  ------                       --------------  -----  \n",
      " 0   Price                        9888 non-null   object \n",
      " 1   Boat Type                    9888 non-null   object \n",
      " 2   Manufacturer                 8550 non-null   object \n",
      " 3   Type                         9882 non-null   object \n",
      " 4   Year Built                   9888 non-null   int64  \n",
      " 5   Length                       9879 non-null   float64\n",
      " 6   Width                        9832 non-null   float64\n",
      " 7   Material                     8139 non-null   object \n",
      " 8   Location                     9852 non-null   object \n",
      " 9   Number of views last 7 days  9888 non-null   int64  \n",
      "dtypes: float64(2), int64(2), object(6)\n",
      "memory usage: 772.6+ KB\n"
     ]
    }
   ],
   "source": [
    "# checking column types\n",
    "df.info()"
   ]
  },
  {
   "cell_type": "markdown",
   "id": "a3b9d5da",
   "metadata": {},
   "source": [
    "Not all columns are at the same number of row entries , data types look appropriate"
   ]
  },
  {
   "cell_type": "code",
   "execution_count": 9,
   "id": "1b592d15",
   "metadata": {},
   "outputs": [
    {
     "data": {
      "text/plain": [
       "Price                             0\n",
       "Boat Type                         0\n",
       "Manufacturer                   1338\n",
       "Type                              6\n",
       "Year Built                        0\n",
       "Length                            9\n",
       "Width                            56\n",
       "Material                       1749\n",
       "Location                         36\n",
       "Number of views last 7 days       0\n",
       "dtype: int64"
      ]
     },
     "execution_count": 9,
     "metadata": {},
     "output_type": "execute_result"
    }
   ],
   "source": [
    "# drilling down to missing data\n",
    "df.isna().sum()"
   ]
  },
  {
   "cell_type": "markdown",
   "id": "2d540ddd",
   "metadata": {},
   "source": [
    "Unable to impute for columns: manufacturer , type, and material, will replace them with 'Not Disclosed' in order to preserve as much of the data as possible "
   ]
  },
  {
   "cell_type": "code",
   "execution_count": 11,
   "id": "94603ba8",
   "metadata": {},
   "outputs": [],
   "source": [
    "df[['Manufacturer','Type','Material']] = df[['Manufacturer','Type','Material']].fillna('Not Disclosed')"
   ]
  },
  {
   "cell_type": "code",
   "execution_count": 12,
   "id": "f1bfbf4d",
   "metadata": {},
   "outputs": [
    {
     "data": {
      "text/plain": [
       "Price                           0\n",
       "Boat Type                       0\n",
       "Manufacturer                    0\n",
       "Type                            0\n",
       "Year Built                      0\n",
       "Length                          9\n",
       "Width                          56\n",
       "Material                        0\n",
       "Location                       36\n",
       "Number of views last 7 days     0\n",
       "dtype: int64"
      ]
     },
     "execution_count": 12,
     "metadata": {},
     "output_type": "execute_result"
    }
   ],
   "source": [
    "# verifying the above worked\n",
    "df.isna().sum()"
   ]
  },
  {
   "cell_type": "markdown",
   "id": "3bc117a0",
   "metadata": {},
   "source": [
    "Length, Width and Location NaNs are a small portion of the dataset, will choose to remove"
   ]
  },
  {
   "cell_type": "code",
   "execution_count": 14,
   "id": "3459f6b5",
   "metadata": {},
   "outputs": [],
   "source": [
    "#dropping remaining rows with NaN values\n",
    "df2 = df.dropna()"
   ]
  },
  {
   "cell_type": "code",
   "execution_count": 15,
   "id": "5e35ca58",
   "metadata": {},
   "outputs": [
    {
     "data": {
      "text/plain": [
       "Price                          0\n",
       "Boat Type                      0\n",
       "Manufacturer                   0\n",
       "Type                           0\n",
       "Year Built                     0\n",
       "Length                         0\n",
       "Width                          0\n",
       "Material                       0\n",
       "Location                       0\n",
       "Number of views last 7 days    0\n",
       "dtype: int64"
      ]
     },
     "execution_count": 15,
     "metadata": {},
     "output_type": "execute_result"
    }
   ],
   "source": [
    "# verifying the above worked\n",
    "df2.isna().sum()"
   ]
  },
  {
   "cell_type": "code",
   "execution_count": 17,
   "id": "73f74267",
   "metadata": {},
   "outputs": [
    {
     "data": {
      "text/plain": [
       "(9796, 10)"
      ]
     },
     "execution_count": 17,
     "metadata": {},
     "output_type": "execute_result"
    }
   ],
   "source": [
    "# veryfing total rows have decreased\n",
    "df2.shape"
   ]
  },
  {
   "cell_type": "code",
   "execution_count": 21,
   "id": "efc7d7bc",
   "metadata": {},
   "outputs": [
    {
     "data": {
      "text/plain": [
       "count    9796.000000\n",
       "mean     1892.353205\n",
       "std       461.835773\n",
       "min         0.000000\n",
       "25%      1996.000000\n",
       "50%      2007.000000\n",
       "75%      2017.000000\n",
       "max      2021.000000\n",
       "Name: Year Built, dtype: float64"
      ]
     },
     "execution_count": 21,
     "metadata": {},
     "output_type": "execute_result"
    }
   ],
   "source": [
    "# reviewing data for numerical column year built\n",
    "df2['Year Built'].describe()"
   ]
  },
  {
   "cell_type": "markdown",
   "id": "4e512d93",
   "metadata": {},
   "source": [
    "The above statistics show that there are boats with 0 as the year built, need to investigate how many are affected by this"
   ]
  },
  {
   "cell_type": "code",
   "execution_count": 25,
   "id": "b1ab7b72",
   "metadata": {},
   "outputs": [
    {
     "data": {
      "text/plain": [
       "2020    1277\n",
       "2019     660\n",
       "0        550\n",
       "2008     454\n",
       "2007     389\n",
       "        ... \n",
       "1914       1\n",
       "1895       1\n",
       "1885       1\n",
       "1931       1\n",
       "1900       1\n",
       "Name: Year Built, Length: 122, dtype: int64"
      ]
     },
     "execution_count": 25,
     "metadata": {},
     "output_type": "execute_result"
    }
   ],
   "source": [
    "# identifying what the totla counts are per year \n",
    "df2['Year Built'].value_counts()"
   ]
  },
  {
   "cell_type": "markdown",
   "id": "66b01e42",
   "metadata": {},
   "source": [
    "Able to identify that there are 550 rows with the year as 0, will be removing these rows so as to not interfere with later analysis"
   ]
  },
  {
   "cell_type": "code",
   "execution_count": 27,
   "id": "98074d1e",
   "metadata": {},
   "outputs": [
    {
     "name": "stderr",
     "output_type": "stream",
     "text": [
      "/var/folders/p9/51wwwf417675ry0nsks67xhm0000gn/T/ipykernel_74406/3433979009.py:2: SettingWithCopyWarning: \n",
      "A value is trying to be set on a copy of a slice from a DataFrame\n",
      "\n",
      "See the caveats in the documentation: https://pandas.pydata.org/pandas-docs/stable/user_guide/indexing.html#returning-a-view-versus-a-copy\n",
      "  df2.drop(df2[(df2['Year Built'] == 0)].index, inplace=True)\n"
     ]
    }
   ],
   "source": [
    "# removing rows with 0 value for the year built column\n",
    "df2.drop(df2[(df2['Year Built'] == 0)].index, inplace=True)"
   ]
  },
  {
   "cell_type": "code",
   "execution_count": 28,
   "id": "25d12aa7",
   "metadata": {},
   "outputs": [
    {
     "data": {
      "text/plain": [
       "(9246, 10)"
      ]
     },
     "execution_count": 28,
     "metadata": {},
     "output_type": "execute_result"
    }
   ],
   "source": [
    "# checking the rows were removed\n",
    "df2.shape"
   ]
  },
  {
   "cell_type": "code",
   "execution_count": 29,
   "id": "d350b5d5",
   "metadata": {},
   "outputs": [
    {
     "data": {
      "text/plain": [
       "count    9246.000000\n",
       "mean     2004.920182\n",
       "std        16.406383\n",
       "min      1885.000000\n",
       "25%      1999.000000\n",
       "50%      2008.000000\n",
       "75%      2018.000000\n",
       "max      2021.000000\n",
       "Name: Year Built, dtype: float64"
      ]
     },
     "execution_count": 29,
     "metadata": {},
     "output_type": "execute_result"
    }
   ],
   "source": [
    "# reviewing data for numerical column year built\n",
    "df2['Year Built'].describe()"
   ]
  },
  {
   "cell_type": "code",
   "execution_count": 30,
   "id": "d4d3fa58",
   "metadata": {},
   "outputs": [
    {
     "data": {
      "text/html": [
       "<div>\n",
       "<style scoped>\n",
       "    .dataframe tbody tr th:only-of-type {\n",
       "        vertical-align: middle;\n",
       "    }\n",
       "\n",
       "    .dataframe tbody tr th {\n",
       "        vertical-align: top;\n",
       "    }\n",
       "\n",
       "    .dataframe thead th {\n",
       "        text-align: right;\n",
       "    }\n",
       "</style>\n",
       "<table border=\"1\" class=\"dataframe\">\n",
       "  <thead>\n",
       "    <tr style=\"text-align: right;\">\n",
       "      <th></th>\n",
       "      <th>Price</th>\n",
       "      <th>Boat Type</th>\n",
       "      <th>Manufacturer</th>\n",
       "      <th>Type</th>\n",
       "      <th>Year Built</th>\n",
       "      <th>Length</th>\n",
       "      <th>Width</th>\n",
       "      <th>Material</th>\n",
       "      <th>Location</th>\n",
       "      <th>Number of views last 7 days</th>\n",
       "    </tr>\n",
       "  </thead>\n",
       "  <tbody>\n",
       "    <tr>\n",
       "      <th>0</th>\n",
       "      <td>CHF 3337</td>\n",
       "      <td>Motor Yacht</td>\n",
       "      <td>Rigiflex power boats</td>\n",
       "      <td>new boat from stock</td>\n",
       "      <td>2017</td>\n",
       "      <td>4.00</td>\n",
       "      <td>1.90</td>\n",
       "      <td>Not Disclosed</td>\n",
       "      <td>Switzerland Â» Lake Geneva Â» VÃ©senaz</td>\n",
       "      <td>226</td>\n",
       "    </tr>\n",
       "    <tr>\n",
       "      <th>1</th>\n",
       "      <td>EUR 3490</td>\n",
       "      <td>Center console boat</td>\n",
       "      <td>Terhi power boats</td>\n",
       "      <td>new boat from stock</td>\n",
       "      <td>2020</td>\n",
       "      <td>4.00</td>\n",
       "      <td>1.50</td>\n",
       "      <td>Thermoplastic</td>\n",
       "      <td>Germany Â» BÃ¶nningstedt</td>\n",
       "      <td>75</td>\n",
       "    </tr>\n",
       "    <tr>\n",
       "      <th>3</th>\n",
       "      <td>DKK 25900</td>\n",
       "      <td>Sport Boat</td>\n",
       "      <td>Pioner power boats</td>\n",
       "      <td>new boat from stock</td>\n",
       "      <td>2020</td>\n",
       "      <td>3.00</td>\n",
       "      <td>1.00</td>\n",
       "      <td>Not Disclosed</td>\n",
       "      <td>Denmark Â» Svendborg</td>\n",
       "      <td>64</td>\n",
       "    </tr>\n",
       "    <tr>\n",
       "      <th>4</th>\n",
       "      <td>EUR 3399</td>\n",
       "      <td>Fishing Boat</td>\n",
       "      <td>Linder power boats</td>\n",
       "      <td>new boat from stock</td>\n",
       "      <td>2019</td>\n",
       "      <td>3.55</td>\n",
       "      <td>1.46</td>\n",
       "      <td>Aluminium</td>\n",
       "      <td>Germany Â» Bayern Â» MÃ¼nchen</td>\n",
       "      <td>58</td>\n",
       "    </tr>\n",
       "    <tr>\n",
       "      <th>6</th>\n",
       "      <td>CHF 3600</td>\n",
       "      <td>Catamaran</td>\n",
       "      <td>Not Disclosed</td>\n",
       "      <td>Used boat,Unleaded</td>\n",
       "      <td>1999</td>\n",
       "      <td>6.20</td>\n",
       "      <td>2.38</td>\n",
       "      <td>Aluminium</td>\n",
       "      <td>Switzerland Â» Neuenburgersee Â» Yvonand</td>\n",
       "      <td>474</td>\n",
       "    </tr>\n",
       "    <tr>\n",
       "      <th>8</th>\n",
       "      <td>EUR 3333</td>\n",
       "      <td>Fishing Boat</td>\n",
       "      <td>Crescent power boats</td>\n",
       "      <td>new boat from stock</td>\n",
       "      <td>2019</td>\n",
       "      <td>3.64</td>\n",
       "      <td>1.37</td>\n",
       "      <td>Not Disclosed</td>\n",
       "      <td>Germany Â» Bayern Â» Boote+service Oberbayern</td>\n",
       "      <td>45</td>\n",
       "    </tr>\n",
       "    <tr>\n",
       "      <th>9</th>\n",
       "      <td>EUR 3300</td>\n",
       "      <td>Pontoon Boat</td>\n",
       "      <td>Whaly power boats</td>\n",
       "      <td>new boat from stock</td>\n",
       "      <td>2018</td>\n",
       "      <td>4.35</td>\n",
       "      <td>1.73</td>\n",
       "      <td>Not Disclosed</td>\n",
       "      <td>Italy Â» Dormelletto</td>\n",
       "      <td>180</td>\n",
       "    </tr>\n",
       "    <tr>\n",
       "      <th>10</th>\n",
       "      <td>CHF 3500</td>\n",
       "      <td>Fishing Boat</td>\n",
       "      <td>Terhi power boats</td>\n",
       "      <td>Used boat,Electric</td>\n",
       "      <td>1987</td>\n",
       "      <td>4.35</td>\n",
       "      <td>1.75</td>\n",
       "      <td>GRP</td>\n",
       "      <td>Switzerland Â» Seengen</td>\n",
       "      <td>239</td>\n",
       "    </tr>\n",
       "    <tr>\n",
       "      <th>12</th>\n",
       "      <td>EUR 3500</td>\n",
       "      <td>Sport Boat</td>\n",
       "      <td>GS Nautica power boats</td>\n",
       "      <td>Used boat</td>\n",
       "      <td>2004</td>\n",
       "      <td>4.70</td>\n",
       "      <td>2.00</td>\n",
       "      <td>GRP</td>\n",
       "      <td>Italy Â» Lake Garda Â» Moniga del Garda (BS)</td>\n",
       "      <td>69</td>\n",
       "    </tr>\n",
       "    <tr>\n",
       "      <th>13</th>\n",
       "      <td>CHF 4600</td>\n",
       "      <td>Runabout</td>\n",
       "      <td>Kimple power boats</td>\n",
       "      <td>new boat from stock</td>\n",
       "      <td>2020</td>\n",
       "      <td>4.40</td>\n",
       "      <td>1.65</td>\n",
       "      <td>Aluminium</td>\n",
       "      <td>Switzerland Â» Zugersee Â» Neuheim</td>\n",
       "      <td>113</td>\n",
       "    </tr>\n",
       "    <tr>\n",
       "      <th>14</th>\n",
       "      <td>CHF 4500</td>\n",
       "      <td>Fishing Boat</td>\n",
       "      <td>Italmarine power boats</td>\n",
       "      <td>Used boat,Unleaded</td>\n",
       "      <td>1997</td>\n",
       "      <td>3.72</td>\n",
       "      <td>1.33</td>\n",
       "      <td>Aluminium</td>\n",
       "      <td>Switzerland Â» VierwaldstÃ¤ttersee Â» 6004</td>\n",
       "      <td>413</td>\n",
       "    </tr>\n",
       "    <tr>\n",
       "      <th>17</th>\n",
       "      <td>DKK 30000</td>\n",
       "      <td>Sport Boat</td>\n",
       "      <td>Not Disclosed</td>\n",
       "      <td>Used boat</td>\n",
       "      <td>1985</td>\n",
       "      <td>4.00</td>\n",
       "      <td>1.00</td>\n",
       "      <td>Not Disclosed</td>\n",
       "      <td>Denmark Â» Svendborg</td>\n",
       "      <td>124</td>\n",
       "    </tr>\n",
       "    <tr>\n",
       "      <th>18</th>\n",
       "      <td>EUR 4000</td>\n",
       "      <td>Pilothouse</td>\n",
       "      <td>BÃ©nÃ©teau power boats</td>\n",
       "      <td>Used boat,Diesel</td>\n",
       "      <td>1981</td>\n",
       "      <td>8.00</td>\n",
       "      <td>2.84</td>\n",
       "      <td>PVC</td>\n",
       "      <td>France Â» MARTGUES, MARTIGUES</td>\n",
       "      <td>265</td>\n",
       "    </tr>\n",
       "    <tr>\n",
       "      <th>19</th>\n",
       "      <td>EUR 4000</td>\n",
       "      <td>Cabin Boat</td>\n",
       "      <td>Not Disclosed</td>\n",
       "      <td>Used boat,Unleaded</td>\n",
       "      <td>2011</td>\n",
       "      <td>6.37</td>\n",
       "      <td>2.31</td>\n",
       "      <td>GRP</td>\n",
       "      <td>Germany Â» Bayern Â» Forchheim/Ofr.</td>\n",
       "      <td>330</td>\n",
       "    </tr>\n",
       "    <tr>\n",
       "      <th>20</th>\n",
       "      <td>EUR 3999</td>\n",
       "      <td>Fishing Boat</td>\n",
       "      <td>Linder power boats</td>\n",
       "      <td>new boat from stock</td>\n",
       "      <td>2019</td>\n",
       "      <td>3.55</td>\n",
       "      <td>1.46</td>\n",
       "      <td>Aluminium</td>\n",
       "      <td>Germany Â» Bayern Â» MÃ¼nchen</td>\n",
       "      <td>69</td>\n",
       "    </tr>\n",
       "  </tbody>\n",
       "</table>\n",
       "</div>"
      ],
      "text/plain": [
       "        Price            Boat Type            Manufacturer  \\\n",
       "0    CHF 3337          Motor Yacht    Rigiflex power boats   \n",
       "1    EUR 3490  Center console boat       Terhi power boats   \n",
       "3   DKK 25900           Sport Boat      Pioner power boats   \n",
       "4    EUR 3399         Fishing Boat      Linder power boats   \n",
       "6    CHF 3600            Catamaran           Not Disclosed   \n",
       "8    EUR 3333         Fishing Boat    Crescent power boats   \n",
       "9    EUR 3300         Pontoon Boat       Whaly power boats   \n",
       "10   CHF 3500         Fishing Boat       Terhi power boats   \n",
       "12   EUR 3500           Sport Boat  GS Nautica power boats   \n",
       "13   CHF 4600             Runabout      Kimple power boats   \n",
       "14   CHF 4500         Fishing Boat  Italmarine power boats   \n",
       "17  DKK 30000           Sport Boat           Not Disclosed   \n",
       "18   EUR 4000           Pilothouse  BÃ©nÃ©teau power boats   \n",
       "19   EUR 4000           Cabin Boat           Not Disclosed   \n",
       "20   EUR 3999         Fishing Boat      Linder power boats   \n",
       "\n",
       "                   Type  Year Built  Length  Width       Material  \\\n",
       "0   new boat from stock        2017    4.00   1.90  Not Disclosed   \n",
       "1   new boat from stock        2020    4.00   1.50  Thermoplastic   \n",
       "3   new boat from stock        2020    3.00   1.00  Not Disclosed   \n",
       "4   new boat from stock        2019    3.55   1.46      Aluminium   \n",
       "6    Used boat,Unleaded        1999    6.20   2.38      Aluminium   \n",
       "8   new boat from stock        2019    3.64   1.37  Not Disclosed   \n",
       "9   new boat from stock        2018    4.35   1.73  Not Disclosed   \n",
       "10   Used boat,Electric        1987    4.35   1.75            GRP   \n",
       "12            Used boat        2004    4.70   2.00            GRP   \n",
       "13  new boat from stock        2020    4.40   1.65      Aluminium   \n",
       "14   Used boat,Unleaded        1997    3.72   1.33      Aluminium   \n",
       "17            Used boat        1985    4.00   1.00  Not Disclosed   \n",
       "18     Used boat,Diesel        1981    8.00   2.84            PVC   \n",
       "19   Used boat,Unleaded        2011    6.37   2.31            GRP   \n",
       "20  new boat from stock        2019    3.55   1.46      Aluminium   \n",
       "\n",
       "                                         Location  Number of views last 7 days  \n",
       "0          Switzerland Â» Lake Geneva Â» VÃ©senaz                          226  \n",
       "1                        Germany Â» BÃ¶nningstedt                           75  \n",
       "3                            Denmark Â» Svendborg                           64  \n",
       "4                   Germany Â» Bayern Â» MÃ¼nchen                           58  \n",
       "6       Switzerland Â» Neuenburgersee Â» Yvonand                           474  \n",
       "8   Germany Â» Bayern Â» Boote+service Oberbayern                           45  \n",
       "9                           Italy Â» Dormelletto                           180  \n",
       "10                         Switzerland Â» Seengen                          239  \n",
       "12   Italy Â» Lake Garda Â» Moniga del Garda (BS)                           69  \n",
       "13             Switzerland Â» Zugersee Â» Neuheim                          113  \n",
       "14     Switzerland Â» VierwaldstÃ¤ttersee Â» 6004                          413  \n",
       "17                           Denmark Â» Svendborg                          124  \n",
       "18                  France Â» MARTGUES, MARTIGUES                          265  \n",
       "19            Germany Â» Bayern Â» Forchheim/Ofr.                          330  \n",
       "20                  Germany Â» Bayern Â» MÃ¼nchen                           69  "
      ]
     },
     "execution_count": 30,
     "metadata": {},
     "output_type": "execute_result"
    }
   ],
   "source": [
    "#checking updated data set\n",
    "df2.head(15)"
   ]
  },
  {
   "cell_type": "code",
   "execution_count": 31,
   "id": "e105e5d0",
   "metadata": {},
   "outputs": [
    {
     "name": "stderr",
     "output_type": "stream",
     "text": [
      "/var/folders/p9/51wwwf417675ry0nsks67xhm0000gn/T/ipykernel_74406/2643720913.py:2: SettingWithCopyWarning: \n",
      "A value is trying to be set on a copy of a slice from a DataFrame\n",
      "\n",
      "See the caveats in the documentation: https://pandas.pydata.org/pandas-docs/stable/user_guide/indexing.html#returning-a-view-versus-a-copy\n",
      "  df2.rename(columns={'Type': 'Boat Condition'}, inplace=True)\n"
     ]
    }
   ],
   "source": [
    "# Changing 'type' header to 'boat condition' to clarify column \n",
    "df2.rename(columns={'Type': 'Boat Condition'}, inplace=True)"
   ]
  },
  {
   "cell_type": "code",
   "execution_count": 32,
   "id": "ead5a557",
   "metadata": {},
   "outputs": [
    {
     "name": "stderr",
     "output_type": "stream",
     "text": [
      "/var/folders/p9/51wwwf417675ry0nsks67xhm0000gn/T/ipykernel_74406/4195760871.py:2: SettingWithCopyWarning: \n",
      "A value is trying to be set on a copy of a slice from a DataFrame\n",
      "\n",
      "See the caveats in the documentation: https://pandas.pydata.org/pandas-docs/stable/user_guide/indexing.html#returning-a-view-versus-a-copy\n",
      "  df2.rename(columns={'Number of views last 7 days': 'Views from last 7 days'}, inplace=True)\n"
     ]
    }
   ],
   "source": [
    "# Changing 'Number of views last 7 days' header to 'Views from last 7 days' to clarify column \n",
    "df2.rename(columns={'Number of views last 7 days': 'Views from last 7 days'}, inplace=True)"
   ]
  },
  {
   "cell_type": "code",
   "execution_count": 33,
   "id": "8f72c9f3",
   "metadata": {},
   "outputs": [
    {
     "data": {
      "text/html": [
       "<div>\n",
       "<style scoped>\n",
       "    .dataframe tbody tr th:only-of-type {\n",
       "        vertical-align: middle;\n",
       "    }\n",
       "\n",
       "    .dataframe tbody tr th {\n",
       "        vertical-align: top;\n",
       "    }\n",
       "\n",
       "    .dataframe thead th {\n",
       "        text-align: right;\n",
       "    }\n",
       "</style>\n",
       "<table border=\"1\" class=\"dataframe\">\n",
       "  <thead>\n",
       "    <tr style=\"text-align: right;\">\n",
       "      <th></th>\n",
       "      <th>Price</th>\n",
       "      <th>Boat Type</th>\n",
       "      <th>Manufacturer</th>\n",
       "      <th>Boat Condition</th>\n",
       "      <th>Year Built</th>\n",
       "      <th>Length</th>\n",
       "      <th>Width</th>\n",
       "      <th>Material</th>\n",
       "      <th>Location</th>\n",
       "      <th>Views from last 7 days</th>\n",
       "    </tr>\n",
       "  </thead>\n",
       "  <tbody>\n",
       "    <tr>\n",
       "      <th>0</th>\n",
       "      <td>CHF 3337</td>\n",
       "      <td>Motor Yacht</td>\n",
       "      <td>Rigiflex power boats</td>\n",
       "      <td>new boat from stock</td>\n",
       "      <td>2017</td>\n",
       "      <td>4.00</td>\n",
       "      <td>1.90</td>\n",
       "      <td>Not Disclosed</td>\n",
       "      <td>Switzerland Â» Lake Geneva Â» VÃ©senaz</td>\n",
       "      <td>226</td>\n",
       "    </tr>\n",
       "    <tr>\n",
       "      <th>1</th>\n",
       "      <td>EUR 3490</td>\n",
       "      <td>Center console boat</td>\n",
       "      <td>Terhi power boats</td>\n",
       "      <td>new boat from stock</td>\n",
       "      <td>2020</td>\n",
       "      <td>4.00</td>\n",
       "      <td>1.50</td>\n",
       "      <td>Thermoplastic</td>\n",
       "      <td>Germany Â» BÃ¶nningstedt</td>\n",
       "      <td>75</td>\n",
       "    </tr>\n",
       "    <tr>\n",
       "      <th>3</th>\n",
       "      <td>DKK 25900</td>\n",
       "      <td>Sport Boat</td>\n",
       "      <td>Pioner power boats</td>\n",
       "      <td>new boat from stock</td>\n",
       "      <td>2020</td>\n",
       "      <td>3.00</td>\n",
       "      <td>1.00</td>\n",
       "      <td>Not Disclosed</td>\n",
       "      <td>Denmark Â» Svendborg</td>\n",
       "      <td>64</td>\n",
       "    </tr>\n",
       "    <tr>\n",
       "      <th>4</th>\n",
       "      <td>EUR 3399</td>\n",
       "      <td>Fishing Boat</td>\n",
       "      <td>Linder power boats</td>\n",
       "      <td>new boat from stock</td>\n",
       "      <td>2019</td>\n",
       "      <td>3.55</td>\n",
       "      <td>1.46</td>\n",
       "      <td>Aluminium</td>\n",
       "      <td>Germany Â» Bayern Â» MÃ¼nchen</td>\n",
       "      <td>58</td>\n",
       "    </tr>\n",
       "    <tr>\n",
       "      <th>6</th>\n",
       "      <td>CHF 3600</td>\n",
       "      <td>Catamaran</td>\n",
       "      <td>Not Disclosed</td>\n",
       "      <td>Used boat,Unleaded</td>\n",
       "      <td>1999</td>\n",
       "      <td>6.20</td>\n",
       "      <td>2.38</td>\n",
       "      <td>Aluminium</td>\n",
       "      <td>Switzerland Â» Neuenburgersee Â» Yvonand</td>\n",
       "      <td>474</td>\n",
       "    </tr>\n",
       "  </tbody>\n",
       "</table>\n",
       "</div>"
      ],
      "text/plain": [
       "       Price            Boat Type          Manufacturer       Boat Condition  \\\n",
       "0   CHF 3337          Motor Yacht  Rigiflex power boats  new boat from stock   \n",
       "1   EUR 3490  Center console boat     Terhi power boats  new boat from stock   \n",
       "3  DKK 25900           Sport Boat    Pioner power boats  new boat from stock   \n",
       "4   EUR 3399         Fishing Boat    Linder power boats  new boat from stock   \n",
       "6   CHF 3600            Catamaran         Not Disclosed   Used boat,Unleaded   \n",
       "\n",
       "   Year Built  Length  Width       Material  \\\n",
       "0        2017    4.00   1.90  Not Disclosed   \n",
       "1        2020    4.00   1.50  Thermoplastic   \n",
       "3        2020    3.00   1.00  Not Disclosed   \n",
       "4        2019    3.55   1.46      Aluminium   \n",
       "6        1999    6.20   2.38      Aluminium   \n",
       "\n",
       "                                    Location  Views from last 7 days  \n",
       "0     Switzerland Â» Lake Geneva Â» VÃ©senaz                     226  \n",
       "1                   Germany Â» BÃ¶nningstedt                      75  \n",
       "3                       Denmark Â» Svendborg                      64  \n",
       "4              Germany Â» Bayern Â» MÃ¼nchen                      58  \n",
       "6  Switzerland Â» Neuenburgersee Â» Yvonand                      474  "
      ]
     },
     "execution_count": 33,
     "metadata": {},
     "output_type": "execute_result"
    }
   ],
   "source": [
    "#checking the updated worked\n",
    "df2.head()"
   ]
  },
  {
   "cell_type": "code",
   "execution_count": 35,
   "id": "9b559d59",
   "metadata": {},
   "outputs": [
    {
     "name": "stderr",
     "output_type": "stream",
     "text": [
      "/var/folders/p9/51wwwf417675ry0nsks67xhm0000gn/T/ipykernel_74406/1273674251.py:2: SettingWithCopyWarning: \n",
      "A value is trying to be set on a copy of a slice from a DataFrame.\n",
      "Try using .loc[row_indexer,col_indexer] = value instead\n",
      "\n",
      "See the caveats in the documentation: https://pandas.pydata.org/pandas-docs/stable/user_guide/indexing.html#returning-a-view-versus-a-copy\n",
      "  df2[['Currency', 'Cost']] = df2.Price.str.split(\" \", expand = True)\n"
     ]
    }
   ],
   "source": [
    "#dividing the price column to seperate currency from the dollar amount\n",
    "df2[['Currency', 'Cost']] = df2.Price.str.split(\" \", expand = True)"
   ]
  },
  {
   "cell_type": "code",
   "execution_count": 36,
   "id": "dbed7a0d",
   "metadata": {},
   "outputs": [
    {
     "data": {
      "text/html": [
       "<div>\n",
       "<style scoped>\n",
       "    .dataframe tbody tr th:only-of-type {\n",
       "        vertical-align: middle;\n",
       "    }\n",
       "\n",
       "    .dataframe tbody tr th {\n",
       "        vertical-align: top;\n",
       "    }\n",
       "\n",
       "    .dataframe thead th {\n",
       "        text-align: right;\n",
       "    }\n",
       "</style>\n",
       "<table border=\"1\" class=\"dataframe\">\n",
       "  <thead>\n",
       "    <tr style=\"text-align: right;\">\n",
       "      <th></th>\n",
       "      <th>Price</th>\n",
       "      <th>Boat Type</th>\n",
       "      <th>Manufacturer</th>\n",
       "      <th>Boat Condition</th>\n",
       "      <th>Year Built</th>\n",
       "      <th>Length</th>\n",
       "      <th>Width</th>\n",
       "      <th>Material</th>\n",
       "      <th>Location</th>\n",
       "      <th>Views from last 7 days</th>\n",
       "      <th>Currency</th>\n",
       "      <th>Cost</th>\n",
       "    </tr>\n",
       "  </thead>\n",
       "  <tbody>\n",
       "    <tr>\n",
       "      <th>0</th>\n",
       "      <td>CHF 3337</td>\n",
       "      <td>Motor Yacht</td>\n",
       "      <td>Rigiflex power boats</td>\n",
       "      <td>new boat from stock</td>\n",
       "      <td>2017</td>\n",
       "      <td>4.00</td>\n",
       "      <td>1.90</td>\n",
       "      <td>Not Disclosed</td>\n",
       "      <td>Switzerland Â» Lake Geneva Â» VÃ©senaz</td>\n",
       "      <td>226</td>\n",
       "      <td>CHF</td>\n",
       "      <td>3337</td>\n",
       "    </tr>\n",
       "    <tr>\n",
       "      <th>1</th>\n",
       "      <td>EUR 3490</td>\n",
       "      <td>Center console boat</td>\n",
       "      <td>Terhi power boats</td>\n",
       "      <td>new boat from stock</td>\n",
       "      <td>2020</td>\n",
       "      <td>4.00</td>\n",
       "      <td>1.50</td>\n",
       "      <td>Thermoplastic</td>\n",
       "      <td>Germany Â» BÃ¶nningstedt</td>\n",
       "      <td>75</td>\n",
       "      <td>EUR</td>\n",
       "      <td>3490</td>\n",
       "    </tr>\n",
       "    <tr>\n",
       "      <th>3</th>\n",
       "      <td>DKK 25900</td>\n",
       "      <td>Sport Boat</td>\n",
       "      <td>Pioner power boats</td>\n",
       "      <td>new boat from stock</td>\n",
       "      <td>2020</td>\n",
       "      <td>3.00</td>\n",
       "      <td>1.00</td>\n",
       "      <td>Not Disclosed</td>\n",
       "      <td>Denmark Â» Svendborg</td>\n",
       "      <td>64</td>\n",
       "      <td>DKK</td>\n",
       "      <td>25900</td>\n",
       "    </tr>\n",
       "    <tr>\n",
       "      <th>4</th>\n",
       "      <td>EUR 3399</td>\n",
       "      <td>Fishing Boat</td>\n",
       "      <td>Linder power boats</td>\n",
       "      <td>new boat from stock</td>\n",
       "      <td>2019</td>\n",
       "      <td>3.55</td>\n",
       "      <td>1.46</td>\n",
       "      <td>Aluminium</td>\n",
       "      <td>Germany Â» Bayern Â» MÃ¼nchen</td>\n",
       "      <td>58</td>\n",
       "      <td>EUR</td>\n",
       "      <td>3399</td>\n",
       "    </tr>\n",
       "    <tr>\n",
       "      <th>6</th>\n",
       "      <td>CHF 3600</td>\n",
       "      <td>Catamaran</td>\n",
       "      <td>Not Disclosed</td>\n",
       "      <td>Used boat,Unleaded</td>\n",
       "      <td>1999</td>\n",
       "      <td>6.20</td>\n",
       "      <td>2.38</td>\n",
       "      <td>Aluminium</td>\n",
       "      <td>Switzerland Â» Neuenburgersee Â» Yvonand</td>\n",
       "      <td>474</td>\n",
       "      <td>CHF</td>\n",
       "      <td>3600</td>\n",
       "    </tr>\n",
       "  </tbody>\n",
       "</table>\n",
       "</div>"
      ],
      "text/plain": [
       "       Price            Boat Type          Manufacturer       Boat Condition  \\\n",
       "0   CHF 3337          Motor Yacht  Rigiflex power boats  new boat from stock   \n",
       "1   EUR 3490  Center console boat     Terhi power boats  new boat from stock   \n",
       "3  DKK 25900           Sport Boat    Pioner power boats  new boat from stock   \n",
       "4   EUR 3399         Fishing Boat    Linder power boats  new boat from stock   \n",
       "6   CHF 3600            Catamaran         Not Disclosed   Used boat,Unleaded   \n",
       "\n",
       "   Year Built  Length  Width       Material  \\\n",
       "0        2017    4.00   1.90  Not Disclosed   \n",
       "1        2020    4.00   1.50  Thermoplastic   \n",
       "3        2020    3.00   1.00  Not Disclosed   \n",
       "4        2019    3.55   1.46      Aluminium   \n",
       "6        1999    6.20   2.38      Aluminium   \n",
       "\n",
       "                                    Location  Views from last 7 days Currency  \\\n",
       "0     Switzerland Â» Lake Geneva Â» VÃ©senaz                     226      CHF   \n",
       "1                   Germany Â» BÃ¶nningstedt                      75      EUR   \n",
       "3                       Denmark Â» Svendborg                      64      DKK   \n",
       "4              Germany Â» Bayern Â» MÃ¼nchen                      58      EUR   \n",
       "6  Switzerland Â» Neuenburgersee Â» Yvonand                      474      CHF   \n",
       "\n",
       "    Cost  \n",
       "0   3337  \n",
       "1   3490  \n",
       "3  25900  \n",
       "4   3399  \n",
       "6   3600  "
      ]
     },
     "execution_count": 36,
     "metadata": {},
     "output_type": "execute_result"
    }
   ],
   "source": [
    "df2.head()"
   ]
  },
  {
   "cell_type": "code",
   "execution_count": 38,
   "id": "64696dc1",
   "metadata": {},
   "outputs": [],
   "source": [
    "# check for duplicates\n",
    "df2_dups = df2[df2.duplicated()]"
   ]
  },
  {
   "cell_type": "code",
   "execution_count": 39,
   "id": "9ec73faa",
   "metadata": {},
   "outputs": [
    {
     "data": {
      "text/html": [
       "<div>\n",
       "<style scoped>\n",
       "    .dataframe tbody tr th:only-of-type {\n",
       "        vertical-align: middle;\n",
       "    }\n",
       "\n",
       "    .dataframe tbody tr th {\n",
       "        vertical-align: top;\n",
       "    }\n",
       "\n",
       "    .dataframe thead th {\n",
       "        text-align: right;\n",
       "    }\n",
       "</style>\n",
       "<table border=\"1\" class=\"dataframe\">\n",
       "  <thead>\n",
       "    <tr style=\"text-align: right;\">\n",
       "      <th></th>\n",
       "      <th>Price</th>\n",
       "      <th>Boat Type</th>\n",
       "      <th>Manufacturer</th>\n",
       "      <th>Boat Condition</th>\n",
       "      <th>Year Built</th>\n",
       "      <th>Length</th>\n",
       "      <th>Width</th>\n",
       "      <th>Material</th>\n",
       "      <th>Location</th>\n",
       "      <th>Views from last 7 days</th>\n",
       "      <th>Currency</th>\n",
       "      <th>Cost</th>\n",
       "    </tr>\n",
       "  </thead>\n",
       "  <tbody>\n",
       "  </tbody>\n",
       "</table>\n",
       "</div>"
      ],
      "text/plain": [
       "Empty DataFrame\n",
       "Columns: [Price, Boat Type, Manufacturer, Boat Condition, Year Built, Length, Width, Material, Location, Views from last 7 days, Currency, Cost]\n",
       "Index: []"
      ]
     },
     "execution_count": 39,
     "metadata": {},
     "output_type": "execute_result"
    }
   ],
   "source": [
    "df2_dups"
   ]
  },
  {
   "cell_type": "markdown",
   "id": "dd052d96",
   "metadata": {},
   "source": [
    "There are no duplicates"
   ]
  },
  {
   "cell_type": "code",
   "execution_count": 41,
   "id": "4205290a",
   "metadata": {},
   "outputs": [
    {
     "name": "stdout",
     "output_type": "stream",
     "text": [
      "<class 'pandas.core.frame.DataFrame'>\n",
      "Int64Index: 9246 entries, 0 to 9887\n",
      "Data columns (total 12 columns):\n",
      " #   Column                  Non-Null Count  Dtype  \n",
      "---  ------                  --------------  -----  \n",
      " 0   Price                   9246 non-null   object \n",
      " 1   Boat Type               9246 non-null   object \n",
      " 2   Manufacturer            9246 non-null   object \n",
      " 3   Boat Condition          9246 non-null   object \n",
      " 4   Year Built              9246 non-null   int64  \n",
      " 5   Length                  9246 non-null   float64\n",
      " 6   Width                   9246 non-null   float64\n",
      " 7   Material                9246 non-null   object \n",
      " 8   Location                9246 non-null   object \n",
      " 9   Views from last 7 days  9246 non-null   int64  \n",
      " 10  Currency                9246 non-null   object \n",
      " 11  Cost                    9246 non-null   object \n",
      "dtypes: float64(2), int64(2), object(8)\n",
      "memory usage: 939.0+ KB\n"
     ]
    }
   ],
   "source": [
    "# reverifying cleaned dataset \n",
    "df2.info()"
   ]
  },
  {
   "cell_type": "code",
   "execution_count": 46,
   "id": "15dc17e7",
   "metadata": {},
   "outputs": [
    {
     "name": "stderr",
     "output_type": "stream",
     "text": [
      "/var/folders/p9/51wwwf417675ry0nsks67xhm0000gn/T/ipykernel_74406/2069144555.py:2: SettingWithCopyWarning: \n",
      "A value is trying to be set on a copy of a slice from a DataFrame.\n",
      "Try using .loc[row_indexer,col_indexer] = value instead\n",
      "\n",
      "See the caveats in the documentation: https://pandas.pydata.org/pandas-docs/stable/user_guide/indexing.html#returning-a-view-versus-a-copy\n",
      "  df2[\"Cost\"] = df2[\"Cost\"].astype(\"int64\")\n"
     ]
    }
   ],
   "source": [
    "#changing 'cost' data type from object to integer\n",
    "df2[\"Cost\"] = df2[\"Cost\"].astype(\"int64\")"
   ]
  },
  {
   "cell_type": "code",
   "execution_count": 47,
   "id": "fb8fae30",
   "metadata": {},
   "outputs": [
    {
     "name": "stdout",
     "output_type": "stream",
     "text": [
      "<class 'pandas.core.frame.DataFrame'>\n",
      "Int64Index: 9246 entries, 0 to 9887\n",
      "Data columns (total 12 columns):\n",
      " #   Column                  Non-Null Count  Dtype  \n",
      "---  ------                  --------------  -----  \n",
      " 0   Price                   9246 non-null   object \n",
      " 1   Boat Type               9246 non-null   object \n",
      " 2   Manufacturer            9246 non-null   object \n",
      " 3   Boat Condition          9246 non-null   object \n",
      " 4   Year Built              9246 non-null   int64  \n",
      " 5   Length                  9246 non-null   float64\n",
      " 6   Width                   9246 non-null   float64\n",
      " 7   Material                9246 non-null   object \n",
      " 8   Location                9246 non-null   object \n",
      " 9   Views from last 7 days  9246 non-null   int64  \n",
      " 10  Currency                9246 non-null   object \n",
      " 11  Cost                    9246 non-null   int64  \n",
      "dtypes: float64(2), int64(3), object(7)\n",
      "memory usage: 939.0+ KB\n"
     ]
    }
   ],
   "source": [
    "#validating change in dtypes\n",
    "df2.info()"
   ]
  },
  {
   "cell_type": "code",
   "execution_count": 48,
   "id": "a333330b",
   "metadata": {},
   "outputs": [
    {
     "name": "stderr",
     "output_type": "stream",
     "text": [
      "/var/folders/p9/51wwwf417675ry0nsks67xhm0000gn/T/ipykernel_74406/4191926052.py:2: SettingWithCopyWarning: \n",
      "A value is trying to be set on a copy of a slice from a DataFrame\n",
      "\n",
      "See the caveats in the documentation: https://pandas.pydata.org/pandas-docs/stable/user_guide/indexing.html#returning-a-view-versus-a-copy\n",
      "  df2.drop(columns=['Price'], inplace=True)\n"
     ]
    }
   ],
   "source": [
    "#removing 'price' columne from data set\n",
    "df2.drop(columns=['Price'], inplace=True)"
   ]
  },
  {
   "cell_type": "code",
   "execution_count": 49,
   "id": "9fd89025",
   "metadata": {},
   "outputs": [
    {
     "data": {
      "text/html": [
       "<div>\n",
       "<style scoped>\n",
       "    .dataframe tbody tr th:only-of-type {\n",
       "        vertical-align: middle;\n",
       "    }\n",
       "\n",
       "    .dataframe tbody tr th {\n",
       "        vertical-align: top;\n",
       "    }\n",
       "\n",
       "    .dataframe thead th {\n",
       "        text-align: right;\n",
       "    }\n",
       "</style>\n",
       "<table border=\"1\" class=\"dataframe\">\n",
       "  <thead>\n",
       "    <tr style=\"text-align: right;\">\n",
       "      <th></th>\n",
       "      <th>Boat Type</th>\n",
       "      <th>Manufacturer</th>\n",
       "      <th>Boat Condition</th>\n",
       "      <th>Year Built</th>\n",
       "      <th>Length</th>\n",
       "      <th>Width</th>\n",
       "      <th>Material</th>\n",
       "      <th>Location</th>\n",
       "      <th>Views from last 7 days</th>\n",
       "      <th>Currency</th>\n",
       "      <th>Cost</th>\n",
       "    </tr>\n",
       "  </thead>\n",
       "  <tbody>\n",
       "    <tr>\n",
       "      <th>0</th>\n",
       "      <td>Motor Yacht</td>\n",
       "      <td>Rigiflex power boats</td>\n",
       "      <td>new boat from stock</td>\n",
       "      <td>2017</td>\n",
       "      <td>4.00</td>\n",
       "      <td>1.90</td>\n",
       "      <td>Not Disclosed</td>\n",
       "      <td>Switzerland Â» Lake Geneva Â» VÃ©senaz</td>\n",
       "      <td>226</td>\n",
       "      <td>CHF</td>\n",
       "      <td>3337</td>\n",
       "    </tr>\n",
       "    <tr>\n",
       "      <th>1</th>\n",
       "      <td>Center console boat</td>\n",
       "      <td>Terhi power boats</td>\n",
       "      <td>new boat from stock</td>\n",
       "      <td>2020</td>\n",
       "      <td>4.00</td>\n",
       "      <td>1.50</td>\n",
       "      <td>Thermoplastic</td>\n",
       "      <td>Germany Â» BÃ¶nningstedt</td>\n",
       "      <td>75</td>\n",
       "      <td>EUR</td>\n",
       "      <td>3490</td>\n",
       "    </tr>\n",
       "    <tr>\n",
       "      <th>3</th>\n",
       "      <td>Sport Boat</td>\n",
       "      <td>Pioner power boats</td>\n",
       "      <td>new boat from stock</td>\n",
       "      <td>2020</td>\n",
       "      <td>3.00</td>\n",
       "      <td>1.00</td>\n",
       "      <td>Not Disclosed</td>\n",
       "      <td>Denmark Â» Svendborg</td>\n",
       "      <td>64</td>\n",
       "      <td>DKK</td>\n",
       "      <td>25900</td>\n",
       "    </tr>\n",
       "    <tr>\n",
       "      <th>4</th>\n",
       "      <td>Fishing Boat</td>\n",
       "      <td>Linder power boats</td>\n",
       "      <td>new boat from stock</td>\n",
       "      <td>2019</td>\n",
       "      <td>3.55</td>\n",
       "      <td>1.46</td>\n",
       "      <td>Aluminium</td>\n",
       "      <td>Germany Â» Bayern Â» MÃ¼nchen</td>\n",
       "      <td>58</td>\n",
       "      <td>EUR</td>\n",
       "      <td>3399</td>\n",
       "    </tr>\n",
       "    <tr>\n",
       "      <th>6</th>\n",
       "      <td>Catamaran</td>\n",
       "      <td>Not Disclosed</td>\n",
       "      <td>Used boat,Unleaded</td>\n",
       "      <td>1999</td>\n",
       "      <td>6.20</td>\n",
       "      <td>2.38</td>\n",
       "      <td>Aluminium</td>\n",
       "      <td>Switzerland Â» Neuenburgersee Â» Yvonand</td>\n",
       "      <td>474</td>\n",
       "      <td>CHF</td>\n",
       "      <td>3600</td>\n",
       "    </tr>\n",
       "  </tbody>\n",
       "</table>\n",
       "</div>"
      ],
      "text/plain": [
       "             Boat Type          Manufacturer       Boat Condition  Year Built  \\\n",
       "0          Motor Yacht  Rigiflex power boats  new boat from stock        2017   \n",
       "1  Center console boat     Terhi power boats  new boat from stock        2020   \n",
       "3           Sport Boat    Pioner power boats  new boat from stock        2020   \n",
       "4         Fishing Boat    Linder power boats  new boat from stock        2019   \n",
       "6            Catamaran         Not Disclosed   Used boat,Unleaded        1999   \n",
       "\n",
       "   Length  Width       Material                                   Location  \\\n",
       "0    4.00   1.90  Not Disclosed     Switzerland Â» Lake Geneva Â» VÃ©senaz   \n",
       "1    4.00   1.50  Thermoplastic                   Germany Â» BÃ¶nningstedt   \n",
       "3    3.00   1.00  Not Disclosed                       Denmark Â» Svendborg   \n",
       "4    3.55   1.46      Aluminium              Germany Â» Bayern Â» MÃ¼nchen   \n",
       "6    6.20   2.38      Aluminium  Switzerland Â» Neuenburgersee Â» Yvonand    \n",
       "\n",
       "   Views from last 7 days Currency   Cost  \n",
       "0                     226      CHF   3337  \n",
       "1                      75      EUR   3490  \n",
       "3                      64      DKK  25900  \n",
       "4                      58      EUR   3399  \n",
       "6                     474      CHF   3600  "
      ]
     },
     "execution_count": 49,
     "metadata": {},
     "output_type": "execute_result"
    }
   ],
   "source": [
    "df2.head()"
   ]
  },
  {
   "cell_type": "code",
   "execution_count": 51,
   "id": "6cec7654",
   "metadata": {},
   "outputs": [
    {
     "data": {
      "text/plain": [
       "(9246, 11)"
      ]
     },
     "execution_count": 51,
     "metadata": {},
     "output_type": "execute_result"
    }
   ],
   "source": [
    "df2.shape"
   ]
  },
  {
   "cell_type": "markdown",
   "id": "82a28f21",
   "metadata": {},
   "source": [
    "# 04. Exporting Dataset"
   ]
  },
  {
   "cell_type": "code",
   "execution_count": 52,
   "id": "6929db09",
   "metadata": {},
   "outputs": [],
   "source": [
    "#exporting cleaned data set\n",
    "df2.to_csv(os.path.join(path, '02 Data', 'Prepared Data', 'clean_boat_data.csv'))"
   ]
  }
 ],
 "metadata": {
  "kernelspec": {
   "display_name": "Python 3 (ipykernel)",
   "language": "python",
   "name": "python3"
  },
  "language_info": {
   "codemirror_mode": {
    "name": "ipython",
    "version": 3
   },
   "file_extension": ".py",
   "mimetype": "text/x-python",
   "name": "python",
   "nbconvert_exporter": "python",
   "pygments_lexer": "ipython3",
   "version": "3.9.13"
  }
 },
 "nbformat": 4,
 "nbformat_minor": 5
}
