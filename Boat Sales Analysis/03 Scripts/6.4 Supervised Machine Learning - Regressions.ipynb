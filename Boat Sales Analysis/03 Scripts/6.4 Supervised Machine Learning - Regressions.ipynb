{
 "cells": [
  {
   "cell_type": "markdown",
   "id": "a1300c0d",
   "metadata": {},
   "source": [
    "## Table of Contents\n",
    "#### 1. Importing libraries and data\n",
    "#### 2. Data cleaning\n",
    "#### 3. Scatterplot analysis\n",
    "#### 4. Hypothesis\n",
    "#### 5. Regression analysis"
   ]
  },
  {
   "cell_type": "markdown",
   "id": "3d96b4a2",
   "metadata": {},
   "source": [
    "### 1. Importing libraries and data"
   ]
  },
  {
   "cell_type": "code",
   "execution_count": 1,
   "id": "19c342f8",
   "metadata": {},
   "outputs": [],
   "source": [
    "import pandas as pd\n",
    "import numpy as np\n",
    "import seaborn as sns\n",
    "import matplotlib\n",
    "import matplotlib.pyplot as plt\n",
    "import os\n",
    "import sklearn\n",
    "from sklearn.model_selection import train_test_split \n",
    "from sklearn.linear_model import LinearRegression\n",
    "from sklearn.metrics import mean_squared_error, r2_score"
   ]
  },
  {
   "cell_type": "code",
   "execution_count": 2,
   "id": "df68f2f1",
   "metadata": {},
   "outputs": [],
   "source": [
    "# to create graphs within the notebook without the need to \"call\" them specifically.\n",
    "%matplotlib inline"
   ]
  },
  {
   "cell_type": "code",
   "execution_count": 3,
   "id": "ae065763",
   "metadata": {},
   "outputs": [],
   "source": [
    "path = '/Users/lianabulte/Career Foundry/2023 Boat Sales Analysis'"
   ]
  },
  {
   "cell_type": "code",
   "execution_count": 5,
   "id": "ca03ca68",
   "metadata": {},
   "outputs": [],
   "source": [
    "df = pd.read_csv(os.path.join(path, '02 Data', 'Prepared Data', 'clean_boat_data_v4.csv'))"
   ]
  },
  {
   "cell_type": "markdown",
   "id": "e395944b",
   "metadata": {},
   "source": [
    "### 2. Data cleaning"
   ]
  },
  {
   "cell_type": "code",
   "execution_count": 6,
   "id": "9b1edaa3",
   "metadata": {},
   "outputs": [
    {
     "data": {
      "text/plain": [
       "(8394, 16)"
      ]
     },
     "execution_count": 6,
     "metadata": {},
     "output_type": "execute_result"
    }
   ],
   "source": [
    "df.shape"
   ]
  },
  {
   "cell_type": "code",
   "execution_count": 7,
   "id": "3dcc0ffd",
   "metadata": {},
   "outputs": [
    {
     "data": {
      "text/html": [
       "<div>\n",
       "<style scoped>\n",
       "    .dataframe tbody tr th:only-of-type {\n",
       "        vertical-align: middle;\n",
       "    }\n",
       "\n",
       "    .dataframe tbody tr th {\n",
       "        vertical-align: top;\n",
       "    }\n",
       "\n",
       "    .dataframe thead th {\n",
       "        text-align: right;\n",
       "    }\n",
       "</style>\n",
       "<table border=\"1\" class=\"dataframe\">\n",
       "  <thead>\n",
       "    <tr style=\"text-align: right;\">\n",
       "      <th></th>\n",
       "      <th>Unnamed: 0.1</th>\n",
       "      <th>Unnamed: 0</th>\n",
       "      <th>Manufacturer</th>\n",
       "      <th>Year Built</th>\n",
       "      <th>Length</th>\n",
       "      <th>Width</th>\n",
       "      <th>Material</th>\n",
       "      <th>Views from last 7 days</th>\n",
       "      <th>Orig Currency</th>\n",
       "      <th>Orig Price</th>\n",
       "      <th>Country</th>\n",
       "      <th>City</th>\n",
       "      <th>Price in Euros</th>\n",
       "      <th>Boat Class</th>\n",
       "      <th>Boat Status</th>\n",
       "      <th>Boat Fuel Type</th>\n",
       "    </tr>\n",
       "  </thead>\n",
       "  <tbody>\n",
       "    <tr>\n",
       "      <th>0</th>\n",
       "      <td>0</td>\n",
       "      <td>0</td>\n",
       "      <td>Rigiflex power boats</td>\n",
       "      <td>2017</td>\n",
       "      <td>4.00</td>\n",
       "      <td>1.90</td>\n",
       "      <td>Not Disclosed</td>\n",
       "      <td>226</td>\n",
       "      <td>CHF</td>\n",
       "      <td>3337</td>\n",
       "      <td>Switzerland</td>\n",
       "      <td>Lake Geneva</td>\n",
       "      <td>3403.74</td>\n",
       "      <td>Motor Yacht</td>\n",
       "      <td>new boat from stock</td>\n",
       "      <td>Not Disclosed</td>\n",
       "    </tr>\n",
       "    <tr>\n",
       "      <th>1</th>\n",
       "      <td>1</td>\n",
       "      <td>1</td>\n",
       "      <td>Terhi power boats</td>\n",
       "      <td>2020</td>\n",
       "      <td>4.00</td>\n",
       "      <td>1.50</td>\n",
       "      <td>Thermoplastic</td>\n",
       "      <td>75</td>\n",
       "      <td>EUR</td>\n",
       "      <td>3490</td>\n",
       "      <td>Germany</td>\n",
       "      <td>Bnningstedt</td>\n",
       "      <td>3490.00</td>\n",
       "      <td>Center console boat</td>\n",
       "      <td>new boat from stock</td>\n",
       "      <td>Not Disclosed</td>\n",
       "    </tr>\n",
       "    <tr>\n",
       "      <th>2</th>\n",
       "      <td>2</td>\n",
       "      <td>2</td>\n",
       "      <td>Pioner power boats</td>\n",
       "      <td>2020</td>\n",
       "      <td>3.00</td>\n",
       "      <td>1.00</td>\n",
       "      <td>Not Disclosed</td>\n",
       "      <td>64</td>\n",
       "      <td>DKK</td>\n",
       "      <td>25900</td>\n",
       "      <td>Denmark</td>\n",
       "      <td>Svendborg</td>\n",
       "      <td>3367.00</td>\n",
       "      <td>Sport Boat</td>\n",
       "      <td>new boat from stock</td>\n",
       "      <td>Not Disclosed</td>\n",
       "    </tr>\n",
       "    <tr>\n",
       "      <th>3</th>\n",
       "      <td>3</td>\n",
       "      <td>3</td>\n",
       "      <td>Linder power boats</td>\n",
       "      <td>2019</td>\n",
       "      <td>3.55</td>\n",
       "      <td>1.46</td>\n",
       "      <td>Aluminium</td>\n",
       "      <td>58</td>\n",
       "      <td>EUR</td>\n",
       "      <td>3399</td>\n",
       "      <td>Germany</td>\n",
       "      <td>Bayern</td>\n",
       "      <td>3399.00</td>\n",
       "      <td>Fishing Boat</td>\n",
       "      <td>new boat from stock</td>\n",
       "      <td>Not Disclosed</td>\n",
       "    </tr>\n",
       "    <tr>\n",
       "      <th>4</th>\n",
       "      <td>4</td>\n",
       "      <td>4</td>\n",
       "      <td>Not Disclosed</td>\n",
       "      <td>1999</td>\n",
       "      <td>6.20</td>\n",
       "      <td>2.38</td>\n",
       "      <td>Aluminium</td>\n",
       "      <td>474</td>\n",
       "      <td>CHF</td>\n",
       "      <td>3600</td>\n",
       "      <td>Switzerland</td>\n",
       "      <td>Neuenburgersee</td>\n",
       "      <td>3672.00</td>\n",
       "      <td>Catamaran</td>\n",
       "      <td>Used boat</td>\n",
       "      <td>Unleaded</td>\n",
       "    </tr>\n",
       "    <tr>\n",
       "      <th>5</th>\n",
       "      <td>5</td>\n",
       "      <td>5</td>\n",
       "      <td>Crescent power boats</td>\n",
       "      <td>2019</td>\n",
       "      <td>3.64</td>\n",
       "      <td>1.37</td>\n",
       "      <td>Not Disclosed</td>\n",
       "      <td>45</td>\n",
       "      <td>EUR</td>\n",
       "      <td>3333</td>\n",
       "      <td>Germany</td>\n",
       "      <td>Bayern</td>\n",
       "      <td>3333.00</td>\n",
       "      <td>Fishing Boat</td>\n",
       "      <td>new boat from stock</td>\n",
       "      <td>Not Disclosed</td>\n",
       "    </tr>\n",
       "    <tr>\n",
       "      <th>6</th>\n",
       "      <td>6</td>\n",
       "      <td>6</td>\n",
       "      <td>Whaly power boats</td>\n",
       "      <td>2018</td>\n",
       "      <td>4.35</td>\n",
       "      <td>1.73</td>\n",
       "      <td>Not Disclosed</td>\n",
       "      <td>180</td>\n",
       "      <td>EUR</td>\n",
       "      <td>3300</td>\n",
       "      <td>Italy</td>\n",
       "      <td>Dormelletto</td>\n",
       "      <td>3300.00</td>\n",
       "      <td>Pontoon Boat</td>\n",
       "      <td>new boat from stock</td>\n",
       "      <td>Not Disclosed</td>\n",
       "    </tr>\n",
       "    <tr>\n",
       "      <th>7</th>\n",
       "      <td>7</td>\n",
       "      <td>7</td>\n",
       "      <td>Terhi power boats</td>\n",
       "      <td>1987</td>\n",
       "      <td>4.35</td>\n",
       "      <td>1.75</td>\n",
       "      <td>GRP</td>\n",
       "      <td>239</td>\n",
       "      <td>CHF</td>\n",
       "      <td>3500</td>\n",
       "      <td>Switzerland</td>\n",
       "      <td>Seengen</td>\n",
       "      <td>3570.00</td>\n",
       "      <td>Fishing Boat</td>\n",
       "      <td>Used boat</td>\n",
       "      <td>Electric</td>\n",
       "    </tr>\n",
       "    <tr>\n",
       "      <th>8</th>\n",
       "      <td>8</td>\n",
       "      <td>8</td>\n",
       "      <td>GS Nautica power boats</td>\n",
       "      <td>2004</td>\n",
       "      <td>4.70</td>\n",
       "      <td>2.00</td>\n",
       "      <td>GRP</td>\n",
       "      <td>69</td>\n",
       "      <td>EUR</td>\n",
       "      <td>3500</td>\n",
       "      <td>Italy</td>\n",
       "      <td>Lake Garda</td>\n",
       "      <td>3500.00</td>\n",
       "      <td>Sport Boat</td>\n",
       "      <td>Used boat</td>\n",
       "      <td>Not Disclosed</td>\n",
       "    </tr>\n",
       "    <tr>\n",
       "      <th>9</th>\n",
       "      <td>9</td>\n",
       "      <td>9</td>\n",
       "      <td>Kimple power boats</td>\n",
       "      <td>2020</td>\n",
       "      <td>4.40</td>\n",
       "      <td>1.65</td>\n",
       "      <td>Aluminium</td>\n",
       "      <td>113</td>\n",
       "      <td>CHF</td>\n",
       "      <td>4600</td>\n",
       "      <td>Switzerland</td>\n",
       "      <td>Zugersee</td>\n",
       "      <td>4692.00</td>\n",
       "      <td>Runabout</td>\n",
       "      <td>new boat from stock</td>\n",
       "      <td>Not Disclosed</td>\n",
       "    </tr>\n",
       "  </tbody>\n",
       "</table>\n",
       "</div>"
      ],
      "text/plain": [
       "   Unnamed: 0.1  Unnamed: 0            Manufacturer  Year Built  Length  \\\n",
       "0             0           0    Rigiflex power boats        2017    4.00   \n",
       "1             1           1       Terhi power boats        2020    4.00   \n",
       "2             2           2      Pioner power boats        2020    3.00   \n",
       "3             3           3      Linder power boats        2019    3.55   \n",
       "4             4           4           Not Disclosed        1999    6.20   \n",
       "5             5           5    Crescent power boats        2019    3.64   \n",
       "6             6           6       Whaly power boats        2018    4.35   \n",
       "7             7           7       Terhi power boats        1987    4.35   \n",
       "8             8           8  GS Nautica power boats        2004    4.70   \n",
       "9             9           9      Kimple power boats        2020    4.40   \n",
       "\n",
       "   Width       Material  Views from last 7 days Orig Currency  Orig Price  \\\n",
       "0   1.90  Not Disclosed                     226           CHF        3337   \n",
       "1   1.50  Thermoplastic                      75           EUR        3490   \n",
       "2   1.00  Not Disclosed                      64           DKK       25900   \n",
       "3   1.46      Aluminium                      58           EUR        3399   \n",
       "4   2.38      Aluminium                     474           CHF        3600   \n",
       "5   1.37  Not Disclosed                      45           EUR        3333   \n",
       "6   1.73  Not Disclosed                     180           EUR        3300   \n",
       "7   1.75            GRP                     239           CHF        3500   \n",
       "8   2.00            GRP                      69           EUR        3500   \n",
       "9   1.65      Aluminium                     113           CHF        4600   \n",
       "\n",
       "       Country              City  Price in Euros           Boat Class  \\\n",
       "0  Switzerland      Lake Geneva          3403.74          Motor Yacht   \n",
       "1      Germany       Bnningstedt         3490.00  Center console boat   \n",
       "2      Denmark         Svendborg         3367.00           Sport Boat   \n",
       "3      Germany           Bayern          3399.00         Fishing Boat   \n",
       "4  Switzerland   Neuenburgersee          3672.00            Catamaran   \n",
       "5      Germany           Bayern          3333.00         Fishing Boat   \n",
       "6        Italy      Dormelletto          3300.00         Pontoon Boat   \n",
       "7  Switzerland           Seengen         3570.00         Fishing Boat   \n",
       "8        Italy       Lake Garda          3500.00           Sport Boat   \n",
       "9  Switzerland         Zugersee          4692.00             Runabout   \n",
       "\n",
       "           Boat Status Boat Fuel Type  \n",
       "0  new boat from stock  Not Disclosed  \n",
       "1  new boat from stock  Not Disclosed  \n",
       "2  new boat from stock  Not Disclosed  \n",
       "3  new boat from stock  Not Disclosed  \n",
       "4            Used boat       Unleaded  \n",
       "5  new boat from stock  Not Disclosed  \n",
       "6  new boat from stock  Not Disclosed  \n",
       "7            Used boat       Electric  \n",
       "8            Used boat  Not Disclosed  \n",
       "9  new boat from stock  Not Disclosed  "
      ]
     },
     "execution_count": 7,
     "metadata": {},
     "output_type": "execute_result"
    }
   ],
   "source": [
    "df.head(10)"
   ]
  },
  {
   "cell_type": "code",
   "execution_count": 8,
   "id": "15fb3305",
   "metadata": {},
   "outputs": [
    {
     "data": {
      "text/plain": [
       "Unnamed: 0.1              0\n",
       "Unnamed: 0                0\n",
       "Manufacturer              0\n",
       "Year Built                0\n",
       "Length                    0\n",
       "Width                     0\n",
       "Material                  0\n",
       "Views from last 7 days    0\n",
       "Orig Currency             0\n",
       "Orig Price                0\n",
       "Country                   0\n",
       "City                      0\n",
       "Price in Euros            0\n",
       "Boat Class                0\n",
       "Boat Status               0\n",
       "Boat Fuel Type            0\n",
       "dtype: int64"
      ]
     },
     "execution_count": 8,
     "metadata": {},
     "output_type": "execute_result"
    }
   ],
   "source": [
    "#check for missing values\n",
    "df.isnull().sum()"
   ]
  },
  {
   "cell_type": "code",
   "execution_count": 9,
   "id": "7cdc8158",
   "metadata": {},
   "outputs": [],
   "source": [
    "#check for duplicates\n",
    "dups = df.duplicated()"
   ]
  },
  {
   "cell_type": "code",
   "execution_count": 10,
   "id": "436c7263",
   "metadata": {},
   "outputs": [
    {
     "data": {
      "text/plain": [
       "(8394,)"
      ]
     },
     "execution_count": 10,
     "metadata": {},
     "output_type": "execute_result"
    }
   ],
   "source": [
    "dups.shape"
   ]
  },
  {
   "cell_type": "code",
   "execution_count": 11,
   "id": "5a7c458d",
   "metadata": {},
   "outputs": [
    {
     "name": "stderr",
     "output_type": "stream",
     "text": [
      "/Users/lianabulte/opt/anaconda3/lib/python3.9/site-packages/seaborn/distributions.py:2619: FutureWarning: `distplot` is a deprecated function and will be removed in a future version. Please adapt your code to use either `displot` (a figure-level function with similar flexibility) or `histplot` (an axes-level function for histograms).\n",
      "  warnings.warn(msg, FutureWarning)\n"
     ]
    },
    {
     "data": {
      "text/plain": [
       "<AxesSubplot:xlabel='Price in Euros', ylabel='Density'>"
      ]
     },
     "execution_count": 11,
     "metadata": {},
     "output_type": "execute_result"
    },
    {
     "data": {
      "image/png": "[encoded data removed]",
      "text/plain": [
       "<Figure size 640x480 with 1 Axes>"
      ]
     },
     "metadata": {},
     "output_type": "display_data"
    }
   ],
   "source": [
    "#checking for extreme values\n",
    "sns.distplot(df['Price in Euros'], bins=25)"
   ]
  },
  {
   "cell_type": "markdown",
   "id": "6e1a2451",
   "metadata": {},
   "source": [
    "##### Checking the mean, median, and max of prices"
   ]
  },
  {
   "cell_type": "code",
   "execution_count": 12,
   "id": "3a2a6688",
   "metadata": {},
   "outputs": [
    {
     "data": {
      "text/plain": [
       "263201.30591851345"
      ]
     },
     "execution_count": 12,
     "metadata": {},
     "output_type": "execute_result"
    }
   ],
   "source": [
    "df['Price in Euros'].mean() "
   ]
  },
  {
   "cell_type": "code",
   "execution_count": 14,
   "id": "c732ff15",
   "metadata": {},
   "outputs": [
    {
     "data": {
      "text/plain": [
       "89000.0"
      ]
     },
     "execution_count": 14,
     "metadata": {},
     "output_type": "execute_result"
    }
   ],
   "source": [
    "df['Price in Euros'].median()"
   ]
  },
  {
   "cell_type": "code",
   "execution_count": 15,
   "id": "11d8c191",
   "metadata": {},
   "outputs": [
    {
     "data": {
      "text/plain": [
       "31000000.0"
      ]
     },
     "execution_count": 15,
     "metadata": {},
     "output_type": "execute_result"
    }
   ],
   "source": [
    "df['Price in Euros'].max()"
   ]
  },
  {
   "cell_type": "markdown",
   "id": "d87ee5a9",
   "metadata": {},
   "source": [
    "There is a potential that the very few expensive boats will skew the results of this regression analysis"
   ]
  },
  {
   "cell_type": "code",
   "execution_count": 16,
   "id": "ee204201",
   "metadata": {},
   "outputs": [
    {
     "name": "stderr",
     "output_type": "stream",
     "text": [
      "/Users/lianabulte/opt/anaconda3/lib/python3.9/site-packages/seaborn/distributions.py:2619: FutureWarning: `distplot` is a deprecated function and will be removed in a future version. Please adapt your code to use either `displot` (a figure-level function with similar flexibility) or `histplot` (an axes-level function for histograms).\n",
      "  warnings.warn(msg, FutureWarning)\n"
     ]
    },
    {
     "data": {
      "text/plain": [
       "<AxesSubplot:xlabel='Views from last 7 days', ylabel='Density'>"
      ]
     },
     "execution_count": 16,
     "metadata": {},
     "output_type": "execute_result"
    },
    {
     "data": {
      "image/png": "[encoded data removed]",
      "text/plain": [
       "<Figure size 640x480 with 1 Axes>"
      ]
     },
     "metadata": {},
     "output_type": "display_data"
    }
   ],
   "source": [
    "#checking for extreme values\n",
    "sns.distplot(df['Views from last 7 days'], bins=25)"
   ]
  },
  {
   "cell_type": "markdown",
   "id": "f7fc0b97",
   "metadata": {},
   "source": [
    "##### Checking the mean, median, and max of views"
   ]
  },
  {
   "cell_type": "code",
   "execution_count": 17,
   "id": "cc59ca22",
   "metadata": {},
   "outputs": [
    {
     "data": {
      "text/plain": [
       "152.97772218251131"
      ]
     },
     "execution_count": 17,
     "metadata": {},
     "output_type": "execute_result"
    }
   ],
   "source": [
    "df['Views from last 7 days'].mean()"
   ]
  },
  {
   "cell_type": "code",
   "execution_count": 18,
   "id": "6ce45666",
   "metadata": {},
   "outputs": [
    {
     "data": {
      "text/plain": [
       "110.0"
      ]
     },
     "execution_count": 18,
     "metadata": {},
     "output_type": "execute_result"
    }
   ],
   "source": [
    "df['Views from last 7 days'].median()"
   ]
  },
  {
   "cell_type": "code",
   "execution_count": 19,
   "id": "04e79c1a",
   "metadata": {},
   "outputs": [
    {
     "data": {
      "text/plain": [
       "3263"
      ]
     },
     "execution_count": 19,
     "metadata": {},
     "output_type": "execute_result"
    }
   ],
   "source": [
    "df['Views from last 7 days'].max()"
   ]
  },
  {
   "cell_type": "markdown",
   "id": "e5204f7f",
   "metadata": {},
   "source": [
    "The possibility of a boat being viewed 3263 does seem a bit high as that would translate into an average daily view of 466 , but i will leave this in for now as i have included the highest priced boat as well"
   ]
  },
  {
   "cell_type": "markdown",
   "id": "15760bfb",
   "metadata": {},
   "source": [
    "### 3. Scatterplot analysis "
   ]
  },
  {
   "cell_type": "code",
   "execution_count": 20,
   "id": "c889285b",
   "metadata": {},
   "outputs": [
    {
     "data": {
      "image/png": "[encoded data removed]",
      "text/plain": [
       "<Figure size 640x480 with 1 Axes>"
      ]
     },
     "metadata": {},
     "output_type": "display_data"
    }
   ],
   "source": [
    "# Creating a scatterplot of price in euros vs. total views in the last 7 days\n",
    "\n",
    "df.plot(x = 'Views from last 7 days', y='Price in Euros',style='o')\n",
    "plt.title('Boat Price vs Total 7-day Views')  \n",
    "plt.xlabel('Total 7-day Views')  \n",
    "plt.ylabel('Price in Euros')  \n",
    "plt.show()"
   ]
  },
  {
   "cell_type": "markdown",
   "id": "3bddc904",
   "metadata": {},
   "source": [
    "### 4. Hypothesis"
   ]
  },
  {
   "cell_type": "markdown",
   "id": "9ad2d8f9",
   "metadata": {},
   "source": [
    "Testing Hypothesis : The views on a boat's ad will decrease as the price of the boat increases (negative correlation)"
   ]
  },
  {
   "cell_type": "markdown",
   "id": "c8b6f8e9",
   "metadata": {},
   "source": [
    "### 5. Regression Analysis"
   ]
  },
  {
   "cell_type": "code",
   "execution_count": 21,
   "id": "d32121e8",
   "metadata": {},
   "outputs": [],
   "source": [
    "# Reshaping the variables into NumPy arrays and putting them into separate objects.\n",
    "X = df['Views from last 7 days'].values.reshape(-1,1)\n",
    "y = df['Price in Euros'].values.reshape(-1,1)"
   ]
  },
  {
   "cell_type": "code",
   "execution_count": 22,
   "id": "65697664",
   "metadata": {},
   "outputs": [
    {
     "data": {
      "text/plain": [
       "array([[226],\n",
       "       [ 75],\n",
       "       [ 64],\n",
       "       ...,\n",
       "       [354],\n",
       "       [266],\n",
       "       [194]])"
      ]
     },
     "execution_count": 22,
     "metadata": {},
     "output_type": "execute_result"
    }
   ],
   "source": [
    "X"
   ]
  },
  {
   "cell_type": "code",
   "execution_count": 23,
   "id": "db75589a",
   "metadata": {},
   "outputs": [
    {
     "data": {
      "text/plain": [
       "array([[3403.74],\n",
       "       [3490.  ],\n",
       "       [3367.  ],\n",
       "       ...,\n",
       "       [4499.  ],\n",
       "       [4300.  ],\n",
       "       [3855.6 ]])"
      ]
     },
     "execution_count": 23,
     "metadata": {},
     "output_type": "execute_result"
    }
   ],
   "source": [
    "y"
   ]
  },
  {
   "cell_type": "code",
   "execution_count": 24,
   "id": "453ca4d5",
   "metadata": {},
   "outputs": [],
   "source": [
    "# Splitting data into a training set and a test set\n",
    "X_train, X_test, y_train, y_test = train_test_split(X, y, test_size=0.3, random_state=0)"
   ]
  },
  {
   "cell_type": "code",
   "execution_count": 25,
   "id": "4da9b93e",
   "metadata": {},
   "outputs": [],
   "source": [
    "# Creating a regression object\n",
    "regression = LinearRegression()"
   ]
  },
  {
   "cell_type": "code",
   "execution_count": 26,
   "id": "1a757e6c",
   "metadata": {},
   "outputs": [
    {
     "data": {
      "text/plain": [
       "LinearRegression()"
      ]
     },
     "execution_count": 26,
     "metadata": {},
     "output_type": "execute_result"
    }
   ],
   "source": [
    "# Fitting the regression object onto the training set\n",
    "regression.fit(X_train, y_train)"
   ]
  },
  {
   "cell_type": "code",
   "execution_count": 27,
   "id": "0f82e36b",
   "metadata": {},
   "outputs": [],
   "source": [
    "# Predict the values of y using X\n",
    "y_predicted = regression.predict(X_test)"
   ]
  },
  {
   "cell_type": "code",
   "execution_count": 28,
   "id": "1eba7fb2",
   "metadata": {},
   "outputs": [
    {
     "data": {
      "image/png": "[encoded data removed]",
      "text/plain": [
       "<Figure size 640x480 with 1 Axes>"
      ]
     },
     "metadata": {},
     "output_type": "display_data"
    }
   ],
   "source": [
    "# Creating a plot that shows the regression line from the model on the test set\n",
    "plot_test = plt\n",
    "plot_test.scatter(X_test, y_test, color='gray', s = 15)\n",
    "plot_test.plot(X_test, y_predicted, color='red', linewidth =3)\n",
    "plot_test.title('Boat Price vs Total 7-day Views (Test set)')\n",
    "plot_test.xlabel('Views from last 7 days')\n",
    "plot_test.ylabel('Price in Euros')\n",
    "plot_test.show()"
   ]
  },
  {
   "cell_type": "markdown",
   "id": "0d4db73b",
   "metadata": {},
   "source": [
    "The plot reinforces my intital thoughts in exercise 6.2 that there is not a strong correlation between the two variables"
   ]
  },
  {
   "cell_type": "code",
   "execution_count": 29,
   "id": "291a65ac",
   "metadata": {},
   "outputs": [],
   "source": [
    "# Creating objects that contain the model summary statistics.\n",
    "rmse = mean_squared_error(y_test, y_predicted)\n",
    "r2 = r2_score(y_test, y_predicted)"
   ]
  },
  {
   "cell_type": "code",
   "execution_count": 30,
   "id": "157cd9ac",
   "metadata": {},
   "outputs": [
    {
     "name": "stdout",
     "output_type": "stream",
     "text": [
      "Slope: [[93.43177961]]\n",
      "Mean squared error:  534620200941.5712\n",
      "R2 score:  -0.0025477861851912476\n"
     ]
    }
   ],
   "source": [
    "# Printing the model summary statistics\n",
    "print('Slope:' ,regression.coef_)\n",
    "print('Mean squared error: ', rmse)\n",
    "print('R2 score: ', r2)"
   ]
  },
  {
   "cell_type": "code",
   "execution_count": 32,
   "id": "2f5faccb",
   "metadata": {
    "scrolled": true
   },
   "outputs": [
    {
     "data": {
      "text/html": [
       "<div>\n",
       "<style scoped>\n",
       "    .dataframe tbody tr th:only-of-type {\n",
       "        vertical-align: middle;\n",
       "    }\n",
       "\n",
       "    .dataframe tbody tr th {\n",
       "        vertical-align: top;\n",
       "    }\n",
       "\n",
       "    .dataframe thead th {\n",
       "        text-align: right;\n",
       "    }\n",
       "</style>\n",
       "<table border=\"1\" class=\"dataframe\">\n",
       "  <thead>\n",
       "    <tr style=\"text-align: right;\">\n",
       "      <th></th>\n",
       "      <th>Actual</th>\n",
       "      <th>Predicted</th>\n",
       "    </tr>\n",
       "  </thead>\n",
       "  <tbody>\n",
       "    <tr>\n",
       "      <th>0</th>\n",
       "      <td>360000.0</td>\n",
       "      <td>258809.665020</td>\n",
       "    </tr>\n",
       "    <tr>\n",
       "      <th>1</th>\n",
       "      <td>1950000.0</td>\n",
       "      <td>256473.870529</td>\n",
       "    </tr>\n",
       "    <tr>\n",
       "      <th>2</th>\n",
       "      <td>35900.0</td>\n",
       "      <td>256660.734089</td>\n",
       "    </tr>\n",
       "    <tr>\n",
       "      <th>3</th>\n",
       "      <td>60000.0</td>\n",
       "      <td>261706.050188</td>\n",
       "    </tr>\n",
       "    <tr>\n",
       "      <th>4</th>\n",
       "      <td>85000.0</td>\n",
       "      <td>273571.886199</td>\n",
       "    </tr>\n",
       "    <tr>\n",
       "      <th>5</th>\n",
       "      <td>75000.0</td>\n",
       "      <td>257221.324766</td>\n",
       "    </tr>\n",
       "    <tr>\n",
       "      <th>6</th>\n",
       "      <td>88000.0</td>\n",
       "      <td>260117.709934</td>\n",
       "    </tr>\n",
       "    <tr>\n",
       "      <th>7</th>\n",
       "      <td>373350.0</td>\n",
       "      <td>264509.003576</td>\n",
       "    </tr>\n",
       "    <tr>\n",
       "      <th>8</th>\n",
       "      <td>165000.0</td>\n",
       "      <td>263014.095102</td>\n",
       "    </tr>\n",
       "    <tr>\n",
       "      <th>9</th>\n",
       "      <td>700600.0</td>\n",
       "      <td>254605.234937</td>\n",
       "    </tr>\n",
       "    <tr>\n",
       "      <th>10</th>\n",
       "      <td>200000.0</td>\n",
       "      <td>266657.934507</td>\n",
       "    </tr>\n",
       "    <tr>\n",
       "      <th>11</th>\n",
       "      <td>178500.0</td>\n",
       "      <td>262827.231543</td>\n",
       "    </tr>\n",
       "    <tr>\n",
       "      <th>12</th>\n",
       "      <td>42200.0</td>\n",
       "      <td>257034.461207</td>\n",
       "    </tr>\n",
       "    <tr>\n",
       "      <th>13</th>\n",
       "      <td>21420.0</td>\n",
       "      <td>272637.568403</td>\n",
       "    </tr>\n",
       "    <tr>\n",
       "      <th>14</th>\n",
       "      <td>125460.0</td>\n",
       "      <td>312719.801857</td>\n",
       "    </tr>\n",
       "  </tbody>\n",
       "</table>\n",
       "</div>"
      ],
      "text/plain": [
       "       Actual      Predicted\n",
       "0    360000.0  258809.665020\n",
       "1   1950000.0  256473.870529\n",
       "2     35900.0  256660.734089\n",
       "3     60000.0  261706.050188\n",
       "4     85000.0  273571.886199\n",
       "5     75000.0  257221.324766\n",
       "6     88000.0  260117.709934\n",
       "7    373350.0  264509.003576\n",
       "8    165000.0  263014.095102\n",
       "9    700600.0  254605.234937\n",
       "10   200000.0  266657.934507\n",
       "11   178500.0  262827.231543\n",
       "12    42200.0  257034.461207\n",
       "13    21420.0  272637.568403\n",
       "14   125460.0  312719.801857"
      ]
     },
     "execution_count": 32,
     "metadata": {},
     "output_type": "execute_result"
    }
   ],
   "source": [
    "# Creating a dataframe comparing the actual and predicted values of y.\n",
    "data = pd.DataFrame({'Actual': y_test.flatten(), 'Predicted': y_predicted.flatten()})\n",
    "data.head(15)"
   ]
  },
  {
   "cell_type": "markdown",
   "id": "e06b9f5b",
   "metadata": {},
   "source": [
    "#### Thoughts on how well the model performed on the test set "
   ]
  },
  {
   "cell_type": "markdown",
   "id": "a05dc973",
   "metadata": {},
   "source": [
    "The RMSE is extremely large which indicates that is very inaccurate as shows in the amount of boats with views from 0 to 500. Also the R2 score sitting at practically 0 also confirms that it is a very poor fit. Finally, by doing a quick manual scan of the Y values for actuals and predicted it further confirms that these numbers are very far apart."
   ]
  },
  {
   "cell_type": "markdown",
   "id": "41289059",
   "metadata": {},
   "source": [
    "This regression model disproves my hypothesis as there is no substantial correlation between the total views of an ad to the price of the boat"
   ]
  }
 ],
 "metadata": {
  "kernelspec": {
   "display_name": "Python 3 (ipykernel)",
   "language": "python",
   "name": "python3"
  },
  "language_info": {
   "codemirror_mode": {
    "name": "ipython",
    "version": 3
   },
   "file_extension": ".py",
   "mimetype": "text/x-python",
   "name": "python",
   "nbconvert_exporter": "python",
   "pygments_lexer": "ipython3",
   "version": "3.9.13"
  }
 },
 "nbformat": 4,
 "nbformat_minor": 5
}
